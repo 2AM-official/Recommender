{
 "cells": [
  {
   "cell_type": "code",
   "execution_count": 2,
   "metadata": {},
   "outputs": [
    {
     "name": "stdout",
     "output_type": "stream",
     "text": [
      "python version of this jupyter notebook: 3.7.6\n"
     ]
    }
   ],
   "source": [
    "from platform import python_version\n",
    "\n",
    "print('python version of this jupyter notebook:', python_version())"
   ]
  },
  {
   "cell_type": "code",
   "execution_count": 3,
   "metadata": {},
   "outputs": [],
   "source": [
    "import pandas as pd\n",
    "from tqdm.notebook import tqdm\n",
    "from collections import defaultdict\n",
    "import numpy as np"
   ]
  },
  {
   "cell_type": "code",
   "execution_count": 4,
   "metadata": {},
   "outputs": [
    {
     "name": "stderr",
     "output_type": "stream",
     "text": [
      "/Users/markzuckerberg/anaconda3/envs/wintertime/lib/python3.7/site-packages/IPython/core/interactiveshell.py:3063: DtypeWarning: Columns (3) have mixed types.Specify dtype option on import or set low_memory=False.\n",
      "  interactivity=interactivity, compiler=compiler, result=result)\n"
     ]
    }
   ],
   "source": [
    "movies = pd.read_csv('./archive/IMDb movies.csv')"
   ]
  },
  {
   "cell_type": "code",
   "execution_count": 5,
   "metadata": {},
   "outputs": [
    {
     "name": "stdout",
     "output_type": "stream",
     "text": [
      "the length of the dataset is: 85855\n"
     ]
    }
   ],
   "source": [
    "print('the length of the dataset is:', len(movies))"
   ]
  },
  {
   "cell_type": "code",
   "execution_count": 6,
   "metadata": {},
   "outputs": [],
   "source": [
    "# use 70000 of the dataset as the training set and the rest as the testing set\n",
    "train_set = movies[:70000]\n",
    "test_set = movies[70000:]"
   ]
  },
  {
   "cell_type": "code",
   "execution_count": 7,
   "metadata": {},
   "outputs": [
    {
     "data": {
      "text/html": [
       "<div>\n",
       "<style scoped>\n",
       "    .dataframe tbody tr th:only-of-type {\n",
       "        vertical-align: middle;\n",
       "    }\n",
       "\n",
       "    .dataframe tbody tr th {\n",
       "        vertical-align: top;\n",
       "    }\n",
       "\n",
       "    .dataframe thead th {\n",
       "        text-align: right;\n",
       "    }\n",
       "</style>\n",
       "<table border=\"1\" class=\"dataframe\">\n",
       "  <thead>\n",
       "    <tr style=\"text-align: right;\">\n",
       "      <th></th>\n",
       "      <th>imdb_title_id</th>\n",
       "      <th>title</th>\n",
       "      <th>original_title</th>\n",
       "      <th>year</th>\n",
       "      <th>date_published</th>\n",
       "      <th>genre</th>\n",
       "      <th>duration</th>\n",
       "      <th>country</th>\n",
       "      <th>language</th>\n",
       "      <th>director</th>\n",
       "      <th>...</th>\n",
       "      <th>actors</th>\n",
       "      <th>description</th>\n",
       "      <th>avg_vote</th>\n",
       "      <th>votes</th>\n",
       "      <th>budget</th>\n",
       "      <th>usa_gross_income</th>\n",
       "      <th>worlwide_gross_income</th>\n",
       "      <th>metascore</th>\n",
       "      <th>reviews_from_users</th>\n",
       "      <th>reviews_from_critics</th>\n",
       "    </tr>\n",
       "  </thead>\n",
       "  <tbody>\n",
       "    <tr>\n",
       "      <th>0</th>\n",
       "      <td>tt0000009</td>\n",
       "      <td>Miss Jerry</td>\n",
       "      <td>Miss Jerry</td>\n",
       "      <td>1894</td>\n",
       "      <td>1894-10-09</td>\n",
       "      <td>Romance</td>\n",
       "      <td>45</td>\n",
       "      <td>USA</td>\n",
       "      <td>None</td>\n",
       "      <td>Alexander Black</td>\n",
       "      <td>...</td>\n",
       "      <td>Blanche Bayliss, William Courtenay, Chauncey D...</td>\n",
       "      <td>The adventures of a female reporter in the 1890s.</td>\n",
       "      <td>5.9</td>\n",
       "      <td>154</td>\n",
       "      <td>NaN</td>\n",
       "      <td>NaN</td>\n",
       "      <td>NaN</td>\n",
       "      <td>NaN</td>\n",
       "      <td>1.0</td>\n",
       "      <td>2.0</td>\n",
       "    </tr>\n",
       "    <tr>\n",
       "      <th>1</th>\n",
       "      <td>tt0000574</td>\n",
       "      <td>The Story of the Kelly Gang</td>\n",
       "      <td>The Story of the Kelly Gang</td>\n",
       "      <td>1906</td>\n",
       "      <td>1906-12-26</td>\n",
       "      <td>Biography, Crime, Drama</td>\n",
       "      <td>70</td>\n",
       "      <td>Australia</td>\n",
       "      <td>None</td>\n",
       "      <td>Charles Tait</td>\n",
       "      <td>...</td>\n",
       "      <td>Elizabeth Tait, John Tait, Norman Campbell, Be...</td>\n",
       "      <td>True story of notorious Australian outlaw Ned ...</td>\n",
       "      <td>6.1</td>\n",
       "      <td>589</td>\n",
       "      <td>$ 2250</td>\n",
       "      <td>NaN</td>\n",
       "      <td>NaN</td>\n",
       "      <td>NaN</td>\n",
       "      <td>7.0</td>\n",
       "      <td>7.0</td>\n",
       "    </tr>\n",
       "    <tr>\n",
       "      <th>2</th>\n",
       "      <td>tt0001892</td>\n",
       "      <td>Den sorte drøm</td>\n",
       "      <td>Den sorte drøm</td>\n",
       "      <td>1911</td>\n",
       "      <td>1911-08-19</td>\n",
       "      <td>Drama</td>\n",
       "      <td>53</td>\n",
       "      <td>Germany, Denmark</td>\n",
       "      <td>NaN</td>\n",
       "      <td>Urban Gad</td>\n",
       "      <td>...</td>\n",
       "      <td>Asta Nielsen, Valdemar Psilander, Gunnar Helse...</td>\n",
       "      <td>Two men of high rank are both wooing the beaut...</td>\n",
       "      <td>5.8</td>\n",
       "      <td>188</td>\n",
       "      <td>NaN</td>\n",
       "      <td>NaN</td>\n",
       "      <td>NaN</td>\n",
       "      <td>NaN</td>\n",
       "      <td>5.0</td>\n",
       "      <td>2.0</td>\n",
       "    </tr>\n",
       "    <tr>\n",
       "      <th>3</th>\n",
       "      <td>tt0002101</td>\n",
       "      <td>Cleopatra</td>\n",
       "      <td>Cleopatra</td>\n",
       "      <td>1912</td>\n",
       "      <td>1912-11-13</td>\n",
       "      <td>Drama, History</td>\n",
       "      <td>100</td>\n",
       "      <td>USA</td>\n",
       "      <td>English</td>\n",
       "      <td>Charles L. Gaskill</td>\n",
       "      <td>...</td>\n",
       "      <td>Helen Gardner, Pearl Sindelar, Miss Fielding, ...</td>\n",
       "      <td>The fabled queen of Egypt's affair with Roman ...</td>\n",
       "      <td>5.2</td>\n",
       "      <td>446</td>\n",
       "      <td>$ 45000</td>\n",
       "      <td>NaN</td>\n",
       "      <td>NaN</td>\n",
       "      <td>NaN</td>\n",
       "      <td>25.0</td>\n",
       "      <td>3.0</td>\n",
       "    </tr>\n",
       "    <tr>\n",
       "      <th>4</th>\n",
       "      <td>tt0002130</td>\n",
       "      <td>L'Inferno</td>\n",
       "      <td>L'Inferno</td>\n",
       "      <td>1911</td>\n",
       "      <td>1911-03-06</td>\n",
       "      <td>Adventure, Drama, Fantasy</td>\n",
       "      <td>68</td>\n",
       "      <td>Italy</td>\n",
       "      <td>Italian</td>\n",
       "      <td>Francesco Bertolini, Adolfo Padovan</td>\n",
       "      <td>...</td>\n",
       "      <td>Salvatore Papa, Arturo Pirovano, Giuseppe de L...</td>\n",
       "      <td>Loosely adapted from Dante's Divine Comedy and...</td>\n",
       "      <td>7.0</td>\n",
       "      <td>2237</td>\n",
       "      <td>NaN</td>\n",
       "      <td>NaN</td>\n",
       "      <td>NaN</td>\n",
       "      <td>NaN</td>\n",
       "      <td>31.0</td>\n",
       "      <td>14.0</td>\n",
       "    </tr>\n",
       "  </tbody>\n",
       "</table>\n",
       "<p>5 rows × 22 columns</p>\n",
       "</div>"
      ],
      "text/plain": [
       "  imdb_title_id                        title               original_title  \\\n",
       "0     tt0000009                   Miss Jerry                   Miss Jerry   \n",
       "1     tt0000574  The Story of the Kelly Gang  The Story of the Kelly Gang   \n",
       "2     tt0001892               Den sorte drøm               Den sorte drøm   \n",
       "3     tt0002101                    Cleopatra                    Cleopatra   \n",
       "4     tt0002130                    L'Inferno                    L'Inferno   \n",
       "\n",
       "   year date_published                      genre  duration           country  \\\n",
       "0  1894     1894-10-09                    Romance        45               USA   \n",
       "1  1906     1906-12-26    Biography, Crime, Drama        70         Australia   \n",
       "2  1911     1911-08-19                      Drama        53  Germany, Denmark   \n",
       "3  1912     1912-11-13             Drama, History       100               USA   \n",
       "4  1911     1911-03-06  Adventure, Drama, Fantasy        68             Italy   \n",
       "\n",
       "  language                             director  ...  \\\n",
       "0     None                      Alexander Black  ...   \n",
       "1     None                         Charles Tait  ...   \n",
       "2      NaN                            Urban Gad  ...   \n",
       "3  English                   Charles L. Gaskill  ...   \n",
       "4  Italian  Francesco Bertolini, Adolfo Padovan  ...   \n",
       "\n",
       "                                              actors  \\\n",
       "0  Blanche Bayliss, William Courtenay, Chauncey D...   \n",
       "1  Elizabeth Tait, John Tait, Norman Campbell, Be...   \n",
       "2  Asta Nielsen, Valdemar Psilander, Gunnar Helse...   \n",
       "3  Helen Gardner, Pearl Sindelar, Miss Fielding, ...   \n",
       "4  Salvatore Papa, Arturo Pirovano, Giuseppe de L...   \n",
       "\n",
       "                                         description avg_vote votes   budget  \\\n",
       "0  The adventures of a female reporter in the 1890s.      5.9   154      NaN   \n",
       "1  True story of notorious Australian outlaw Ned ...      6.1   589   $ 2250   \n",
       "2  Two men of high rank are both wooing the beaut...      5.8   188      NaN   \n",
       "3  The fabled queen of Egypt's affair with Roman ...      5.2   446  $ 45000   \n",
       "4  Loosely adapted from Dante's Divine Comedy and...      7.0  2237      NaN   \n",
       "\n",
       "   usa_gross_income worlwide_gross_income metascore reviews_from_users  \\\n",
       "0               NaN                   NaN       NaN                1.0   \n",
       "1               NaN                   NaN       NaN                7.0   \n",
       "2               NaN                   NaN       NaN                5.0   \n",
       "3               NaN                   NaN       NaN               25.0   \n",
       "4               NaN                   NaN       NaN               31.0   \n",
       "\n",
       "   reviews_from_critics  \n",
       "0                   2.0  \n",
       "1                   7.0  \n",
       "2                   2.0  \n",
       "3                   3.0  \n",
       "4                  14.0  \n",
       "\n",
       "[5 rows x 22 columns]"
      ]
     },
     "execution_count": 7,
     "metadata": {},
     "output_type": "execute_result"
    }
   ],
   "source": [
    "train_set.head()"
   ]
  },
  {
   "cell_type": "code",
   "execution_count": 8,
   "metadata": {},
   "outputs": [
    {
     "data": {
      "application/vnd.jupyter.widget-view+json": {
       "model_id": "f855132311cd4706b8d51a00e7ed28d6",
       "version_major": 2,
       "version_minor": 0
      },
      "text/plain": [
       "HBox(children=(FloatProgress(value=1.0, bar_style='info', max=1.0), HTML(value='')))"
      ]
     },
     "metadata": {},
     "output_type": "display_data"
    },
    {
     "name": "stdout",
     "output_type": "stream",
     "text": [
      "\n"
     ]
    }
   ],
   "source": [
    "actor_movies =  {}\n",
    "actor_count = {}\n",
    "vote_add = 0\n",
    "for index, row in tqdm(train_set.iterrows()):\n",
    "    if type(row['actors']) != str:\n",
    "        continue\n",
    "    actors = row['actors'].split(',')\n",
    "    for a in actors:\n",
    "        if a not in actor_movies:\n",
    "            actor_movies[a] = {row['imdb_title_id']}\n",
    "            actor_count[a] = {0}\n",
    "        else:\n",
    "            actor_movies[a].add(row['imdb_title_id'])\n",
    "            actor_count[a] \n",
    "    vote_add += row['avg_vote']\n",
    "    \n",
    "vote_mean = vote_add/len(train_set)"
   ]
  },
  {
   "cell_type": "code",
   "execution_count": 9,
   "metadata": {},
   "outputs": [
    {
     "data": {
      "application/vnd.jupyter.widget-view+json": {
       "model_id": "8b46931c04ed483984cb4f6fda61758f",
       "version_major": 2,
       "version_minor": 0
      },
      "text/plain": [
       "HBox(children=(FloatProgress(value=1.0, bar_style='info', max=1.0), HTML(value='')))"
      ]
     },
     "metadata": {},
     "output_type": "display_data"
    },
    {
     "name": "stdout",
     "output_type": "stream",
     "text": [
      "Lejos de Casa pelicula Venezolana 9.8\n",
      "\n"
     ]
    }
   ],
   "source": [
    "# count the number of movies an actor plays\n",
    "actor_count = defaultdict(int)\n",
    "actor_rate = defaultdict(int)\n",
    "\n",
    "for index, row in tqdm(train_set.iterrows()):\n",
    "    if type(row['actors']) != str:\n",
    "        continue\n",
    "    actors = row['actors'].split(',')\n",
    "    for a in actors:\n",
    "        a = a.replace(\" \", \"\")\n",
    "        actor_count[a] += 1\n",
    "        actor_rate[a] += row['avg_vote']\n",
    "        if a == \"Angibell\": print(row['title'], row['avg_vote'])"
   ]
  },
  {
   "cell_type": "code",
   "execution_count": 10,
   "metadata": {},
   "outputs": [],
   "source": [
    "for a in actor_rate:\n",
    "    actor_rate[a] = actor_rate[a]/actor_count[a]\n",
    "    \n",
    "actor_rate = sorted(actor_rate.items(), key= lambda x: x[1], reverse=True)\n",
    "actor_count = sorted(actor_count.items(), key= lambda x: x[1], reverse=True)"
   ]
  },
  {
   "cell_type": "code",
   "execution_count": null,
   "metadata": {},
   "outputs": [],
   "source": []
  },
  {
   "cell_type": "code",
   "execution_count": null,
   "metadata": {},
   "outputs": [],
   "source": []
  },
  {
   "cell_type": "code",
   "execution_count": 11,
   "metadata": {},
   "outputs": [
    {
     "name": "stderr",
     "output_type": "stream",
     "text": [
      "IOPub data rate exceeded.\n",
      "The notebook server will temporarily stop sending output\n",
      "to the client in order to avoid crashing it.\n",
      "To change this limit, set the config variable\n",
      "`--NotebookApp.iopub_data_rate_limit`.\n",
      "\n",
      "Current values:\n",
      "NotebookApp.iopub_data_rate_limit=1000000.0 (bytes/sec)\n",
      "NotebookApp.rate_limit_window=3.0 (secs)\n",
      "\n"
     ]
    }
   ],
   "source": [
    "genres = []\n",
    "genreSet = set()\n",
    "for index, row in train_set.iterrows():\n",
    "    genres.append([])\n",
    "    for t in row['genre'].split(', '):\n",
    "        genreSet.add(t)\n",
    "        genres[-1].append(t)\n",
    "numGenre = len(genreSet)\n",
    "genreToIndex = dict()\n",
    "for i, g in enumerate(list(genreSet)):\n",
    "    genreToIndex[g] = i\n",
    "for i, genre in enumerate(genres):\n",
    "    t = [0] * numGenre\n",
    "    for g in genre:\n",
    "        t[genreToIndex[g]] = 1\n",
    "    genres[i] = t\n",
    "    \n",
    "print(genres)"
   ]
  },
  {
   "cell_type": "code",
   "execution_count": 12,
   "metadata": {},
   "outputs": [
    {
     "name": "stdout",
     "output_type": "stream",
     "text": [
      "['USA', 'France', 'UK', 'Italy', 'India', 'Japan', 'Germany', 'Canada', 'Spain', 'Hong Kong']\n"
     ]
    }
   ],
   "source": [
    "countries = []\n",
    "tmp = set()\n",
    "frequency = defaultdict(int)\n",
    "for index, row in train_set.iterrows():\n",
    "    countries.append([])\n",
    "#     print(index, row['country'], row['title'])\n",
    "    if type(row['country']) != str: continue\n",
    "    for t in row['country'].split(', '):\n",
    "        tmp.add(t)\n",
    "        frequency[t] += 1\n",
    "        countries[-1].append(t)\n",
    "numCountries = len(tmp)\n",
    "frequency = sorted(frequency.keys(), key=lambda x: frequency[x], reverse=True)[:10]\n",
    "print(frequency)\n",
    "countryToIndex = dict()\n",
    "for i, c in enumerate(frequency):\n",
    "    countryToIndex[c] = i\n",
    "for i, country in enumerate(countries):\n",
    "    t = [0] * 10\n",
    "    for c in country:\n",
    "        if c in frequency:\n",
    "            t[countryToIndex[c]] = 1\n",
    "    countries[i] = t\n",
    "    \n",
    "# print(countries)"
   ]
  },
  {
   "cell_type": "code",
   "execution_count": 13,
   "metadata": {},
   "outputs": [
    {
     "name": "stdout",
     "output_type": "stream",
     "text": [
      "[1, 0, 0, 0, 0, 0, 0, 0, 0, 0]\n",
      "USA\n"
     ]
    }
   ],
   "source": [
    "print(countries[2000])\n",
    "for index, row in train_set.iterrows():\n",
    "    if index == 2000: \n",
    "        print(row['country'])\n",
    "        break"
   ]
  },
  {
   "cell_type": "code",
   "execution_count": 14,
   "metadata": {},
   "outputs": [
    {
     "name": "stderr",
     "output_type": "stream",
     "text": [
      "IOPub data rate exceeded.\n",
      "The notebook server will temporarily stop sending output\n",
      "to the client in order to avoid crashing it.\n",
      "To change this limit, set the config variable\n",
      "`--NotebookApp.iopub_data_rate_limit`.\n",
      "\n",
      "Current values:\n",
      "NotebookApp.iopub_data_rate_limit=1000000.0 (bytes/sec)\n",
      "NotebookApp.rate_limit_window=3.0 (secs)\n",
      "\n"
     ]
    }
   ],
   "source": [
    "directorAndHisGenre = defaultdict(list)\n",
    "m = 0\n",
    "\n",
    "for index, row in train_set.iterrows():\n",
    "    if type(row['director']) != str: continue \n",
    "    for t in row['director'].split(', '):\n",
    "        if len(directorAndHisGenre[t]) == 0: directorAndHisGenre[t] = [0 for _ in range(2 * numGenre)]\n",
    "        for g in row['genre'].split(', '):\n",
    "            directorAndHisGenre[t][genreToIndex[g]] += 0.1\n",
    "            directorAndHisGenre[t][genreToIndex[g]+numGenre] += row['avg_vote'] / 20\n",
    "            m = max(m, directorAndHisGenre[t][genreToIndex[g]+numGenre])\n",
    "        \n",
    "print(directorAndHisGenre)"
   ]
  },
  {
   "cell_type": "code",
   "execution_count": 15,
   "metadata": {},
   "outputs": [
    {
     "name": "stdout",
     "output_type": "stream",
     "text": [
      "[74.68, 346.6, 60.52, 0.04, 76.56, 0.08, 81.32, 423.6, 259.24, 1544.84, 126.28, 75.16, 34.48, 0.08, 383.48, 966.12, 0.04, 26.52, 293.48, 126.76, 58.6, 119.24, 166.88, 63.76, 481.08]\n",
      "5789.440000000001\n"
     ]
    }
   ],
   "source": [
    "genreStat = [sum([n[i] for n in genres]) / len(genres[0]) for i in range(len(genres[0]))]\n",
    "print(genreStat)\n",
    "genreToIndex\n",
    "print(sum(genreStat))"
   ]
  },
  {
   "cell_type": "code",
   "execution_count": 16,
   "metadata": {},
   "outputs": [
    {
     "name": "stderr",
     "output_type": "stream",
     "text": [
      "IOPub data rate exceeded.\n",
      "The notebook server will temporarily stop sending output\n",
      "to the client in order to avoid crashing it.\n",
      "To change this limit, set the config variable\n",
      "`--NotebookApp.iopub_data_rate_limit`.\n",
      "\n",
      "Current values:\n",
      "NotebookApp.iopub_data_rate_limit=1000000.0 (bytes/sec)\n",
      "NotebookApp.rate_limit_window=3.0 (secs)\n",
      "\n"
     ]
    }
   ],
   "source": [
    "actorAndHisGenre = defaultdict(list)\n",
    "m = 0\n",
    "\n",
    "for index, row in train_set.iterrows():\n",
    "    if type(row['actors']) != str: continue \n",
    "    for t in row['actors'].split(', '):\n",
    "        tmpName = t.replace(' ', '')\n",
    "        if len(actorAndHisGenre[tmpName]) == 0: actorAndHisGenre[tmpName] = [0 for _ in range(2 * numGenre)]\n",
    "        for g in row['genre'].split(', '):\n",
    "            actorAndHisGenre[tmpName][genreToIndex[g]] += 0.1\n",
    "            actorAndHisGenre[tmpName][genreToIndex[g]+numGenre] += row['avg_vote'] / 20\n",
    "#             m = max(m, directorAndHisGenre[t][genreToIndex[g]+numGenre])\n",
    "        \n",
    "print(actorAndHisGenre.keys())"
   ]
  },
  {
   "cell_type": "code",
   "execution_count": 17,
   "metadata": {},
   "outputs": [
    {
     "name": "stdout",
     "output_type": "stream",
     "text": [
      "['BlancheBayliss', 'WilliamCourtenay', 'ChaunceyDepew', 'ElizabethTait', 'JohnTait', 'NormanCampbell', 'BellaCola', 'WillCoyne', 'SamCrewes', 'JackEnnis']\n"
     ]
    }
   ],
   "source": [
    "print(list(actorAndHisGenre.keys())[:10])"
   ]
  },
  {
   "cell_type": "code",
   "execution_count": 18,
   "metadata": {},
   "outputs": [
    {
     "data": {
      "application/vnd.jupyter.widget-view+json": {
       "model_id": "0359dc2169ab48b7bdbdc3c7e5d71488",
       "version_major": 2,
       "version_minor": 0
      },
      "text/plain": [
       "HBox(children=(FloatProgress(value=1.0, bar_style='info', max=1.0), HTML(value='')))"
      ]
     },
     "metadata": {},
     "output_type": "display_data"
    },
    {
     "name": "stdout",
     "output_type": "stream",
     "text": [
      "\n"
     ]
    }
   ],
   "source": [
    "years = []\n",
    "for index, row in tqdm(train_set.iterrows()):\n",
    "    t = [0] * 10\n",
    "    year = row['year']\n",
    "    i = 9\n",
    "    if int(year) <= 1930:\n",
    "        i = 1\n",
    "    else: \n",
    "        i = int((int(year) - 1921)/10)\n",
    "    t[i] = 1\n",
    "    years.append(t)"
   ]
  },
  {
   "cell_type": "code",
   "execution_count": 19,
   "metadata": {},
   "outputs": [
    {
     "data": {
      "application/vnd.jupyter.widget-view+json": {
       "model_id": "be5c02f5c0a54da5882c88b853aee6b2",
       "version_major": 2,
       "version_minor": 0
      },
      "text/plain": [
       "HBox(children=(FloatProgress(value=1.0, bar_style='info', max=1.0), HTML(value='')))"
      ]
     },
     "metadata": {},
     "output_type": "display_data"
    },
    {
     "name": "stdout",
     "output_type": "stream",
     "text": [
      "\n"
     ]
    }
   ],
   "source": [
    "X = []\n",
    "for index, row in tqdm(train_set.iterrows()):\n",
    "    directorFeature = directorAndHisGenre[row['director']]\n",
    "#     print(len(years[index]), len(directorFeature), len(genres[index]), len(countries[index]))\n",
    "    X.append(years[index] + (directorFeature if len(directorFeature) > 0 else [0] * (2 * numGenre)) + genres[index] + countries[index])\n",
    "    actorFeature = [0 for _ in range(2 * numGenre)]\n",
    "    if type(row['actors']) == str: \n",
    "        for actor in row['actors'].split(', '):\n",
    "            for i, x in enumerate(actorAndHisGenre[actor.replace(' ', '')]):\n",
    "                actorFeature[i] += x\n",
    "    X[-1] = X[-1] + actorFeature"
   ]
  },
  {
   "cell_type": "code",
   "execution_count": 20,
   "metadata": {},
   "outputs": [
    {
     "data": {
      "application/vnd.jupyter.widget-view+json": {
       "model_id": "092f3d2942054c7fa46801585abba574",
       "version_major": 2,
       "version_minor": 0
      },
      "text/plain": [
       "HBox(children=(FloatProgress(value=1.0, bar_style='info', max=1.0), HTML(value='')))"
      ]
     },
     "metadata": {},
     "output_type": "display_data"
    },
    {
     "name": "stdout",
     "output_type": "stream",
     "text": [
      "\n"
     ]
    }
   ],
   "source": [
    "y = []\n",
    "for index, row in tqdm(train_set.iterrows()):\n",
    "    y.append(row['avg_vote'])"
   ]
  },
  {
   "cell_type": "code",
   "execution_count": 21,
   "metadata": {},
   "outputs": [],
   "source": [
    "X = np.array(X)\n",
    "y = np.array(y)\n",
    "\n"
   ]
  },
  {
   "cell_type": "markdown",
   "metadata": {},
   "source": [
    "#### build test set"
   ]
  },
  {
   "cell_type": "code",
   "execution_count": 22,
   "metadata": {},
   "outputs": [],
   "source": [
    "directorAndHisGenre = defaultdict(list)\n",
    "m = 0\n",
    "\n",
    "for index, row in test_set.iterrows():\n",
    "    if type(row['director']) != str: continue \n",
    "    for t in row['director'].split(', '):\n",
    "        if len(directorAndHisGenre[t]) == 0: directorAndHisGenre[t] = [0 for _ in range(2 * numGenre)]\n",
    "        for g in row['genre'].split(', '):\n",
    "            directorAndHisGenre[t][genreToIndex[g]] += 0.1\n",
    "            directorAndHisGenre[t][genreToIndex[g]+numGenre] += row['avg_vote'] / 20\n",
    "            m = max(m, directorAndHisGenre[t][genreToIndex[g]+numGenre])"
   ]
  },
  {
   "cell_type": "code",
   "execution_count": 23,
   "metadata": {},
   "outputs": [
    {
     "name": "stdout",
     "output_type": "stream",
     "text": [
      "['USA', 'India', 'France', 'UK', 'Germany', 'Canada', 'Japan', 'Italy', 'Belgium', 'Turkey']\n"
     ]
    }
   ],
   "source": [
    "countries = []\n",
    "tmp = set()\n",
    "frequency = defaultdict(int)\n",
    "for index, row in test_set.iterrows():\n",
    "    countries.append([])\n",
    "#     print(index, row['country'], row['title'])\n",
    "    if type(row['country']) != str: continue\n",
    "    for t in row['country'].split(', '):\n",
    "        tmp.add(t)\n",
    "        frequency[t] += 1\n",
    "        countries[-1].append(t)\n",
    "numCountries = len(tmp)\n",
    "frequency = sorted(frequency.keys(), key=lambda x: frequency[x], reverse=True)[:10]\n",
    "print(frequency)\n",
    "countryToIndex = dict()\n",
    "for i, c in enumerate(frequency):\n",
    "    countryToIndex[c] = i\n",
    "for i, country in enumerate(countries):\n",
    "    t = [0] * 10\n",
    "    for c in country:\n",
    "        if c in frequency:\n",
    "            t[countryToIndex[c]] = 1\n",
    "    countries[i] = t"
   ]
  },
  {
   "cell_type": "code",
   "execution_count": 24,
   "metadata": {},
   "outputs": [],
   "source": [
    "genres = []\n",
    "genreSet = set()\n",
    "for index, row in test_set.iterrows():\n",
    "    genres.append([])\n",
    "    for t in row['genre'].split(', '):\n",
    "        genreSet.add(t)\n",
    "        genres[-1].append(t)\n",
    "numGenre = len(genreSet)\n",
    "genreToIndex = dict()\n",
    "for i, g in enumerate(list(genreSet)):\n",
    "    genreToIndex[g] = i\n",
    "for i, genre in enumerate(genres):\n",
    "    t = [0] * numGenre\n",
    "    for g in genre:\n",
    "        t[genreToIndex[g]] = 1\n",
    "    genres[i] = t"
   ]
  },
  {
   "cell_type": "code",
   "execution_count": 25,
   "metadata": {},
   "outputs": [],
   "source": [
    "actorAndHisGenre = defaultdict(list)\n",
    "m = 0\n",
    "\n",
    "for index, row in test_set.iterrows():\n",
    "    if type(row['actors']) != str: continue \n",
    "    for t in row['actors'].split(', '):\n",
    "        tmpName = t.replace(' ', '')\n",
    "        if len(actorAndHisGenre[tmpName]) == 0: actorAndHisGenre[tmpName] = [0 for _ in range(2 * numGenre)]\n",
    "        for g in row['genre'].split(', '):\n",
    "            actorAndHisGenre[tmpName][genreToIndex[g]] += 0.1\n",
    "            actorAndHisGenre[tmpName][genreToIndex[g]+numGenre] += row['avg_vote'] / 20"
   ]
  },
  {
   "cell_type": "code",
   "execution_count": 35,
   "metadata": {},
   "outputs": [
    {
     "data": {
      "application/vnd.jupyter.widget-view+json": {
       "model_id": "2ae09651202049f3a1b0c55e2f22667b",
       "version_major": 2,
       "version_minor": 0
      },
      "text/plain": [
       "HBox(children=(FloatProgress(value=1.0, bar_style='info', max=1.0), HTML(value='')))"
      ]
     },
     "metadata": {},
     "output_type": "display_data"
    },
    {
     "name": "stdout",
     "output_type": "stream",
     "text": [
      "\n"
     ]
    }
   ],
   "source": [
    "years = []\n",
    "for index, row in tqdm(test_set.iterrows()):\n",
    "    t = [0] * 10\n",
    "    year = row['year']\n",
    "    if year.isdecimal():\n",
    "        i = 9\n",
    "        if int(year) <= 1930:\n",
    "            i = 1\n",
    "        else: \n",
    "            i = int((int(year) - 1921)/10)\n",
    "        t[i] = 1\n",
    "    years.append(t)\n"
   ]
  },
  {
   "cell_type": "code",
   "execution_count": 27,
   "metadata": {},
   "outputs": [
    {
     "data": {
      "text/plain": [
       "15855"
      ]
     },
     "execution_count": 27,
     "metadata": {},
     "output_type": "execute_result"
    }
   ],
   "source": [
    "len(test_set)"
   ]
  },
  {
   "cell_type": "code",
   "execution_count": 28,
   "metadata": {},
   "outputs": [
    {
     "name": "stdout",
     "output_type": "stream",
     "text": [
      "0 12640 15855 15855\n"
     ]
    }
   ],
   "source": [
    "print(len(years), len(directorAndHisGenre), len(genres), len(countries))"
   ]
  },
  {
   "cell_type": "code",
   "execution_count": 37,
   "metadata": {},
   "outputs": [
    {
     "data": {
      "application/vnd.jupyter.widget-view+json": {
       "model_id": "27f5633eb52f497ea89da065cf16d466",
       "version_major": 2,
       "version_minor": 0
      },
      "text/plain": [
       "HBox(children=(FloatProgress(value=1.0, bar_style='info', max=1.0), HTML(value='')))"
      ]
     },
     "metadata": {},
     "output_type": "display_data"
    },
    {
     "name": "stdout",
     "output_type": "stream",
     "text": [
      "\n"
     ]
    }
   ],
   "source": [
    "X = []\n",
    "\n",
    "for index, row in tqdm(test_set.iterrows()):\n",
    "    directorFeature = directorAndHisGenre[row['director']]\n",
    "\n",
    "    index = index - 70000\n",
    "\n",
    "    #print(len(years[index]), len(directorFeature), len(genres[index]), len(countries[index])) \n",
    "    X.append(years[index] + (directorFeature if len(directorFeature) > 0 else [0] * (2 * numGenre)) + genres[index] + countries[index])\n",
    "    actorFeature = [0 for _ in range(2 * numGenre)]\n",
    "    if type(row['actors']) == str: \n",
    "        for actor in row['actors'].split(', '):\n",
    "            for i, x in enumerate(actorAndHisGenre[actor.replace(' ', '')]):\n",
    "                actorFeature[i] += x\n",
    "    X[-1] = X[-1] + actorFeature"
   ]
  },
  {
   "cell_type": "code",
   "execution_count": 38,
   "metadata": {},
   "outputs": [
    {
     "data": {
      "application/vnd.jupyter.widget-view+json": {
       "model_id": "5980c000efd941a493f8d3a472e14d52",
       "version_major": 2,
       "version_minor": 0
      },
      "text/plain": [
       "HBox(children=(FloatProgress(value=1.0, bar_style='info', max=1.0), HTML(value='')))"
      ]
     },
     "metadata": {},
     "output_type": "display_data"
    },
    {
     "name": "stdout",
     "output_type": "stream",
     "text": [
      "\n"
     ]
    }
   ],
   "source": [
    "y = []\n",
    "for index, row in tqdm(test_set.iterrows()):\n",
    "    y.append(row['avg_vote'])"
   ]
  },
  {
   "cell_type": "code",
   "execution_count": 39,
   "metadata": {},
   "outputs": [],
   "source": [
    "test_X = np.array(X)\n",
    "test_y = np.array(y)"
   ]
  },
  {
   "cell_type": "code",
   "execution_count": 40,
   "metadata": {},
   "outputs": [
    {
     "data": {
      "text/plain": [
       "136"
      ]
     },
     "execution_count": 40,
     "metadata": {},
     "output_type": "execute_result"
    }
   ],
   "source": [
    "len(X[0])"
   ]
  },
  {
   "cell_type": "code",
   "execution_count": 45,
   "metadata": {},
   "outputs": [
    {
     "data": {
      "text/plain": [
       "136"
      ]
     },
     "execution_count": 45,
     "metadata": {},
     "output_type": "execute_result"
    }
   ],
   "source": [
    "len(test_X[0])"
   ]
  },
  {
   "cell_type": "code",
   "execution_count": null,
   "metadata": {},
   "outputs": [],
   "source": []
  }
 ],
 "metadata": {
  "kernelspec": {
   "display_name": "Wintertime",
   "language": "python",
   "name": "wintertime"
  },
  "language_info": {
   "codemirror_mode": {
    "name": "ipython",
    "version": 3
   },
   "file_extension": ".py",
   "mimetype": "text/x-python",
   "name": "python",
   "nbconvert_exporter": "python",
   "pygments_lexer": "ipython3",
   "version": "3.7.6"
  }
 },
 "nbformat": 4,
 "nbformat_minor": 2
}
